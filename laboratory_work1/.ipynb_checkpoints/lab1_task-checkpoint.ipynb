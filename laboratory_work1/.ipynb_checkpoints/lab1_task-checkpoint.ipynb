{
 "cells": [
  {
   "cell_type": "markdown",
   "id": "fifteen-sailing",
   "metadata": {
    "id": "fifteen-sailing"
   },
   "source": [
    "# Лабораторная работа №1\n",
    "## Выполнил студент группы БСТ2101 Оганесян Давид Артакович"
   ]
  },
  {
   "cell_type": "markdown",
   "id": "particular-syndicate",
   "metadata": {
    "id": "particular-syndicate"
   },
   "source": [
    "### Оглавление\n",
    "1. [Задание 1](#Задание-№1)\n",
    "2. [Задание 2](#Задание-№2)\n",
    "3. [Задание 3](#Задание-№3)\n",
    "4. [Вывод](#Вывод)"
   ]
  },
  {
   "cell_type": "markdown",
   "id": "arctic-stocks",
   "metadata": {
    "id": "arctic-stocks"
   },
   "source": [
    "### Задание №1\n",
    "<i> Вызвать функцию print() и передать туда строку Hello, World! </i>"
   ]
  },
  {
   "cell_type": "code",
   "execution_count": null,
   "id": "caring-truck",
   "metadata": {
    "id": "caring-truck",
    "scrolled": true
   },
   "outputs": [],
   "source": [
    "print('Hello World')"
   ]
  },
  {
   "cell_type": "markdown",
   "id": "maritime-conversation",
   "metadata": {
    "id": "maritime-conversation"
   },
   "source": [
    "### Задание №2\n",
    "Написать генератор случайных матриц(многомерных), который принимает\n",
    "опциональные параметры <b>m</b>, <b>n</b>, <b>min_limit</b>, <b>max_limit</b>, где <b>m</b> и <b>n</b> указывают размер\n",
    "матрицы, а <b>min_lim</b> и <b>max_lim</b> - минимальное и максимальное значение для\n",
    "генерируемого числа."
   ]
  },
  {
   "cell_type": "code",
   "execution_count": 7,
   "id": "built-contact",
   "metadata": {
    "id": "built-contact"
   },
   "outputs": [],
   "source": [
    "from random import randint\n",
    "import time"
   ]
  },
  {
   "cell_type": "code",
   "execution_count": 14,
   "id": "alert-charm",
   "metadata": {
    "id": "alert-charm",
    "outputId": "c95dd9e7-d076-4718-b6fb-25f2e6bc03b9"
   },
   "outputs": [
    {
     "name": "stdout",
     "output_type": "stream",
     "text": [
      "number of matrix rows: 5\n",
      "number of matrix columns: 5000\n",
      "random generator min limit: -1000\n",
      "random generator max limit: 1000\n"
     ]
    }
   ],
   "source": [
    "def generate_matrix(n, m, min_limit, max_limit):\n",
    "    return [[randint(min_limit, max_limit) for _ in range(m)] for _ in range(n)]\n",
    "\n",
    "\n",
    "n = int(input('number of matrix rows: '))\n",
    "m = int(input('number of matrix columns: '))\n",
    "min_limit = int(input('random generator min limit: '))\n",
    "max_limit = int(input('random generator max limit: '))\n",
    "\n",
    "matrix = generate_matrix(n, m, min_limit, max_limit)\n",
    "\n",
    "#for line in matrix:\n",
    "#    print(*line)"
   ]
  },
  {
   "cell_type": "markdown",
   "id": "catholic-roots",
   "metadata": {
    "id": "catholic-roots"
   },
   "source": [
    "### Задание №3\n",
    "Реализовать методы сортировки строк числовой матрицы в соответствии с\n",
    "заданием. Оценить время работы каждого алгоритма сортировки и сравнить его со\n",
    "временем стандартной функции сортировки. Испытания проводить на сгенерированных\n",
    "матрицах."
   ]
  },
  {
   "cell_type": "code",
   "execution_count": 8,
   "id": "opposed-creature",
   "metadata": {
    "id": "opposed-creature"
   },
   "outputs": [],
   "source": [
    "import copy"
   ]
  },
  {
   "cell_type": "code",
   "execution_count": 15,
   "id": "cleared-anniversary",
   "metadata": {
    "id": "cleared-anniversary",
    "outputId": "b7c76c60-4acb-4c14-9bfb-d4f8d71093a1"
   },
   "outputs": [
    {
     "name": "stdout",
     "output_type": "stream",
     "text": [
      "Selection sort: 5224 ms\n"
     ]
    }
   ],
   "source": [
    "# Сортировка выбором\n",
    "def selection_sort(array: list):\n",
    "    for i in range(len(array)):\n",
    "        min_index = i\n",
    "\n",
    "        for j in range(i + 1, len(array)):\n",
    "            if array[j] < array[min_index]:\n",
    "                min_index = j\n",
    "\n",
    "        array[min_index], array[i] = array[i], array[min_index]\n",
    "\n",
    "\n",
    "start_time = time.time()\n",
    "\n",
    "for line in matrix:\n",
    "    selection_sort(line.copy())\n",
    "\n",
    "print(f'Selection sort: {round((time.time() - start_time) * 1000)} ms')"
   ]
  },
  {
   "cell_type": "code",
   "execution_count": 16,
   "id": "roman-silly",
   "metadata": {
    "id": "roman-silly",
    "outputId": "84666b71-fb68-4c07-d27d-e716af29fcbb",
    "scrolled": true
   },
   "outputs": [
    {
     "name": "stdout",
     "output_type": "stream",
     "text": [
      "Insertion sort: 3318 ms\n"
     ]
    }
   ],
   "source": [
    "# Сортировка вставкой.\n",
    "def insertion_sort(array: list):\n",
    "    for i in range(1, len(array)):\n",
    "        x = array[i]\n",
    "        j = i - 1\n",
    "\n",
    "        while j >= 0 and x < array[j]:\n",
    "            array[j + 1] = array[j]\n",
    "            j -= 1\n",
    "        array[j + 1] = x\n",
    "\n",
    "\n",
    "start_time = time.time()\n",
    "\n",
    "for line in matrix:\n",
    "    insertion_sort(line.copy())\n",
    "\n",
    "print(f'Insertion sort: {round((time.time() - start_time) * 1000)} ms')"
   ]
  },
  {
   "cell_type": "code",
   "execution_count": 17,
   "id": "vital-implementation",
   "metadata": {
    "id": "vital-implementation",
    "outputId": "7b648bf5-37a5-4d47-926d-b799f7a23be2"
   },
   "outputs": [
    {
     "name": "stdout",
     "output_type": "stream",
     "text": [
      "Bubble sort: 9254 ms\n"
     ]
    }
   ],
   "source": [
    "# Сортировка пузырьком.\n",
    "def bubble_sort(array: list):\n",
    "    for i in range(len(array) - 1):\n",
    "        for j in range(len(array) - i - 1):\n",
    "            if array[j] > array[j + 1]:\n",
    "                array[j], array[j + 1] = array[j + 1], array[j]\n",
    "\n",
    "\n",
    "start_time = time.time()\n",
    "\n",
    "for line in matrix:\n",
    "    bubble_sort(line.copy())\n",
    "\n",
    "print(f'Bubble sort: {round((time.time() - start_time) * 1000)} ms')"
   ]
  },
  {
   "cell_type": "code",
   "execution_count": 18,
   "id": "veterinary-glory",
   "metadata": {
    "id": "veterinary-glory",
    "outputId": "9cc2a9ff-ec7a-43de-e4a8-47945d030986"
   },
   "outputs": [
    {
     "name": "stdout",
     "output_type": "stream",
     "text": [
      "Shell sort: 111 ms\n"
     ]
    }
   ],
   "source": [
    "# Сортировка Шелла.\n",
    "def shell_sort(array: list):\n",
    "    interval = len(array) // 2\n",
    "\n",
    "    while interval > 0:\n",
    "        for i in range(interval, len(array)):\n",
    "            temp = array[i]\n",
    "            j = i\n",
    "\n",
    "            while j >= interval and array[j - interval] > temp:\n",
    "                array[j] = array[j - interval]\n",
    "                j -= interval\n",
    "\n",
    "            array[j] = temp\n",
    "\n",
    "        interval //= 2\n",
    "\n",
    "\n",
    "start_time = time.time()\n",
    "\n",
    "for line in matrix:\n",
    "    shell_sort(line.copy())\n",
    "\n",
    "print(f'Shell sort: {round((time.time() - start_time) * 1000)} ms')"
   ]
  },
  {
   "cell_type": "code",
   "execution_count": 19,
   "id": "correct-chaos",
   "metadata": {
    "id": "correct-chaos",
    "outputId": "f4d9aef1-8a2f-46a0-def0-4c9e049f5c77"
   },
   "outputs": [
    {
     "name": "stdout",
     "output_type": "stream",
     "text": [
      "Quick sort: 112 ms\n"
     ]
    }
   ],
   "source": [
    "# Быстрая сортировка.\n",
    "def quick_sort(array: list):\n",
    "    if len(array) > 1:\n",
    "        pivot = array[0]\n",
    "        left, right = [], []\n",
    "\n",
    "        for i in range(1, len(array)):\n",
    "            if array[i] < pivot:\n",
    "                left.append(array[i])\n",
    "            else:\n",
    "                right.append(array[i])\n",
    "\n",
    "        quick_sort(left)\n",
    "        quick_sort(right)\n",
    "        array.clear()\n",
    "        array += left + [pivot] + right\n",
    "\n",
    "\n",
    "start_time = time.time()\n",
    "\n",
    "for line in matrix:\n",
    "    quick_sort(line.copy())\n",
    "\n",
    "print(f'Quick sort: {round((time.time() - start_time) * 1000)} ms')"
   ]
  },
  {
   "cell_type": "code",
   "execution_count": 20,
   "id": "french-czech",
   "metadata": {
    "colab": {
     "base_uri": "https://localhost:8080/",
     "height": 217
    },
    "executionInfo": {
     "elapsed": 433,
     "status": "error",
     "timestamp": 1645638345253,
     "user": {
      "displayName": "Sergey Simonov",
      "photoUrl": "https://lh3.googleusercontent.com/a-/AOh14GhQdeIfzzsg8bfb7DLHaLzEFH8Ebg2FyuaL9YoQyA=s64",
      "userId": "14094206399671235086"
     },
     "user_tz": -180
    },
    "id": "french-czech",
    "outputId": "7e38b779-8bbf-4955-c3ad-2a6be0ee386a"
   },
   "outputs": [
    {
     "ename": "IndexError",
     "evalue": "list assignment index out of range",
     "output_type": "error",
     "traceback": [
      "\u001b[1;31m---------------------------------------------------------------------------\u001b[0m",
      "\u001b[1;31mIndexError\u001b[0m                                Traceback (most recent call last)",
      "Cell \u001b[1;32mIn[20], line 46\u001b[0m\n\u001b[0;32m     43\u001b[0m start_time \u001b[38;5;241m=\u001b[39m time\u001b[38;5;241m.\u001b[39mtime()\n\u001b[0;32m     45\u001b[0m \u001b[38;5;28;01mfor\u001b[39;00m line \u001b[38;5;129;01min\u001b[39;00m matrix:\n\u001b[1;32m---> 46\u001b[0m     \u001b[43mtournament_sort\u001b[49m\u001b[43m(\u001b[49m\u001b[43mline\u001b[49m\u001b[38;5;241;43m.\u001b[39;49m\u001b[43mcopy\u001b[49m\u001b[43m(\u001b[49m\u001b[43m)\u001b[49m\u001b[43m)\u001b[49m\n\u001b[0;32m     48\u001b[0m \u001b[38;5;28mprint\u001b[39m(\u001b[38;5;124mf\u001b[39m\u001b[38;5;124m'\u001b[39m\u001b[38;5;124mTournament sort: \u001b[39m\u001b[38;5;132;01m{\u001b[39;00m\u001b[38;5;28mround\u001b[39m((time\u001b[38;5;241m.\u001b[39mtime()\u001b[38;5;250m \u001b[39m\u001b[38;5;241m-\u001b[39m\u001b[38;5;250m \u001b[39mstart_time)\u001b[38;5;250m \u001b[39m\u001b[38;5;241m*\u001b[39m\u001b[38;5;250m \u001b[39m\u001b[38;5;241m1000\u001b[39m)\u001b[38;5;132;01m}\u001b[39;00m\u001b[38;5;124m ms\u001b[39m\u001b[38;5;124m'\u001b[39m)\n",
      "Cell \u001b[1;32mIn[20], line 34\u001b[0m, in \u001b[0;36mtournament_sort\u001b[1;34m(arr)\u001b[0m\n\u001b[0;32m     32\u001b[0m     right \u001b[38;5;241m=\u001b[39m tournament(mid \u001b[38;5;241m+\u001b[39m \u001b[38;5;241m1\u001b[39m, end)\n\u001b[0;32m     33\u001b[0m     \u001b[38;5;28;01mreturn\u001b[39;00m find_winner(left, right)\n\u001b[1;32m---> 34\u001b[0m \u001b[43mbuild_tree\u001b[49m\u001b[43m(\u001b[49m\u001b[38;5;241;43m0\u001b[39;49m\u001b[43m,\u001b[49m\u001b[43m \u001b[49m\u001b[38;5;241;43m0\u001b[39;49m\u001b[43m,\u001b[49m\u001b[43m \u001b[49m\u001b[43mn\u001b[49m\u001b[43m \u001b[49m\u001b[38;5;241;43m-\u001b[39;49m\u001b[43m \u001b[49m\u001b[38;5;241;43m1\u001b[39;49m\u001b[43m)\u001b[49m\n\u001b[0;32m     35\u001b[0m sorted_arr \u001b[38;5;241m=\u001b[39m []\n\u001b[0;32m     36\u001b[0m \u001b[38;5;28;01mfor\u001b[39;00m i \u001b[38;5;129;01min\u001b[39;00m \u001b[38;5;28mrange\u001b[39m(n):\n",
      "Cell \u001b[1;32mIn[20], line 11\u001b[0m, in \u001b[0;36mtournament_sort.<locals>.build_tree\u001b[1;34m(node, start, end)\u001b[0m\n\u001b[0;32m      9\u001b[0m \u001b[38;5;28;01melse\u001b[39;00m: \u001b[38;5;66;03m# иначе делим наш диапазон пополам и рекурсивно строим левое и правое поддерево\u001b[39;00m\n\u001b[0;32m     10\u001b[0m     mid \u001b[38;5;241m=\u001b[39m (start \u001b[38;5;241m+\u001b[39m end) \u001b[38;5;241m/\u001b[39m\u001b[38;5;241m/\u001b[39m \u001b[38;5;241m2\u001b[39m\n\u001b[1;32m---> 11\u001b[0m     \u001b[43mbuild_tree\u001b[49m\u001b[43m(\u001b[49m\u001b[38;5;241;43m2\u001b[39;49m\u001b[43m \u001b[49m\u001b[38;5;241;43m*\u001b[39;49m\u001b[43m \u001b[49m\u001b[43mnode\u001b[49m\u001b[43m \u001b[49m\u001b[38;5;241;43m+\u001b[39;49m\u001b[43m \u001b[49m\u001b[38;5;241;43m1\u001b[39;49m\u001b[43m,\u001b[49m\u001b[43m \u001b[49m\u001b[43mstart\u001b[49m\u001b[43m,\u001b[49m\u001b[43m \u001b[49m\u001b[43mmid\u001b[49m\u001b[43m)\u001b[49m\n\u001b[0;32m     12\u001b[0m     build_tree(\u001b[38;5;241m2\u001b[39m \u001b[38;5;241m*\u001b[39m node \u001b[38;5;241m+\u001b[39m \u001b[38;5;241m2\u001b[39m, mid \u001b[38;5;241m+\u001b[39m \u001b[38;5;241m1\u001b[39m, end)\n\u001b[0;32m     13\u001b[0m     tree[node] \u001b[38;5;241m=\u001b[39m \u001b[38;5;28mmax\u001b[39m(tree[\u001b[38;5;241m2\u001b[39m \u001b[38;5;241m*\u001b[39m node \u001b[38;5;241m+\u001b[39m \u001b[38;5;241m1\u001b[39m], tree[\u001b[38;5;241m2\u001b[39m \u001b[38;5;241m*\u001b[39m node \u001b[38;5;241m+\u001b[39m \u001b[38;5;241m2\u001b[39m])\n",
      "Cell \u001b[1;32mIn[20], line 11\u001b[0m, in \u001b[0;36mtournament_sort.<locals>.build_tree\u001b[1;34m(node, start, end)\u001b[0m\n\u001b[0;32m      9\u001b[0m \u001b[38;5;28;01melse\u001b[39;00m: \u001b[38;5;66;03m# иначе делим наш диапазон пополам и рекурсивно строим левое и правое поддерево\u001b[39;00m\n\u001b[0;32m     10\u001b[0m     mid \u001b[38;5;241m=\u001b[39m (start \u001b[38;5;241m+\u001b[39m end) \u001b[38;5;241m/\u001b[39m\u001b[38;5;241m/\u001b[39m \u001b[38;5;241m2\u001b[39m\n\u001b[1;32m---> 11\u001b[0m     \u001b[43mbuild_tree\u001b[49m\u001b[43m(\u001b[49m\u001b[38;5;241;43m2\u001b[39;49m\u001b[43m \u001b[49m\u001b[38;5;241;43m*\u001b[39;49m\u001b[43m \u001b[49m\u001b[43mnode\u001b[49m\u001b[43m \u001b[49m\u001b[38;5;241;43m+\u001b[39;49m\u001b[43m \u001b[49m\u001b[38;5;241;43m1\u001b[39;49m\u001b[43m,\u001b[49m\u001b[43m \u001b[49m\u001b[43mstart\u001b[49m\u001b[43m,\u001b[49m\u001b[43m \u001b[49m\u001b[43mmid\u001b[49m\u001b[43m)\u001b[49m\n\u001b[0;32m     12\u001b[0m     build_tree(\u001b[38;5;241m2\u001b[39m \u001b[38;5;241m*\u001b[39m node \u001b[38;5;241m+\u001b[39m \u001b[38;5;241m2\u001b[39m, mid \u001b[38;5;241m+\u001b[39m \u001b[38;5;241m1\u001b[39m, end)\n\u001b[0;32m     13\u001b[0m     tree[node] \u001b[38;5;241m=\u001b[39m \u001b[38;5;28mmax\u001b[39m(tree[\u001b[38;5;241m2\u001b[39m \u001b[38;5;241m*\u001b[39m node \u001b[38;5;241m+\u001b[39m \u001b[38;5;241m1\u001b[39m], tree[\u001b[38;5;241m2\u001b[39m \u001b[38;5;241m*\u001b[39m node \u001b[38;5;241m+\u001b[39m \u001b[38;5;241m2\u001b[39m])\n",
      "Cell \u001b[1;32mIn[20], line 12\u001b[0m, in \u001b[0;36mtournament_sort.<locals>.build_tree\u001b[1;34m(node, start, end)\u001b[0m\n\u001b[0;32m     10\u001b[0m mid \u001b[38;5;241m=\u001b[39m (start \u001b[38;5;241m+\u001b[39m end) \u001b[38;5;241m/\u001b[39m\u001b[38;5;241m/\u001b[39m \u001b[38;5;241m2\u001b[39m\n\u001b[0;32m     11\u001b[0m build_tree(\u001b[38;5;241m2\u001b[39m \u001b[38;5;241m*\u001b[39m node \u001b[38;5;241m+\u001b[39m \u001b[38;5;241m1\u001b[39m, start, mid)\n\u001b[1;32m---> 12\u001b[0m \u001b[43mbuild_tree\u001b[49m\u001b[43m(\u001b[49m\u001b[38;5;241;43m2\u001b[39;49m\u001b[43m \u001b[49m\u001b[38;5;241;43m*\u001b[39;49m\u001b[43m \u001b[49m\u001b[43mnode\u001b[49m\u001b[43m \u001b[49m\u001b[38;5;241;43m+\u001b[39;49m\u001b[43m \u001b[49m\u001b[38;5;241;43m2\u001b[39;49m\u001b[43m,\u001b[49m\u001b[43m \u001b[49m\u001b[43mmid\u001b[49m\u001b[43m \u001b[49m\u001b[38;5;241;43m+\u001b[39;49m\u001b[43m \u001b[49m\u001b[38;5;241;43m1\u001b[39;49m\u001b[43m,\u001b[49m\u001b[43m \u001b[49m\u001b[43mend\u001b[49m\u001b[43m)\u001b[49m\n\u001b[0;32m     13\u001b[0m tree[node] \u001b[38;5;241m=\u001b[39m \u001b[38;5;28mmax\u001b[39m(tree[\u001b[38;5;241m2\u001b[39m \u001b[38;5;241m*\u001b[39m node \u001b[38;5;241m+\u001b[39m \u001b[38;5;241m1\u001b[39m], tree[\u001b[38;5;241m2\u001b[39m \u001b[38;5;241m*\u001b[39m node \u001b[38;5;241m+\u001b[39m \u001b[38;5;241m2\u001b[39m])\n",
      "Cell \u001b[1;32mIn[20], line 12\u001b[0m, in \u001b[0;36mtournament_sort.<locals>.build_tree\u001b[1;34m(node, start, end)\u001b[0m\n\u001b[0;32m     10\u001b[0m mid \u001b[38;5;241m=\u001b[39m (start \u001b[38;5;241m+\u001b[39m end) \u001b[38;5;241m/\u001b[39m\u001b[38;5;241m/\u001b[39m \u001b[38;5;241m2\u001b[39m\n\u001b[0;32m     11\u001b[0m build_tree(\u001b[38;5;241m2\u001b[39m \u001b[38;5;241m*\u001b[39m node \u001b[38;5;241m+\u001b[39m \u001b[38;5;241m1\u001b[39m, start, mid)\n\u001b[1;32m---> 12\u001b[0m \u001b[43mbuild_tree\u001b[49m\u001b[43m(\u001b[49m\u001b[38;5;241;43m2\u001b[39;49m\u001b[43m \u001b[49m\u001b[38;5;241;43m*\u001b[39;49m\u001b[43m \u001b[49m\u001b[43mnode\u001b[49m\u001b[43m \u001b[49m\u001b[38;5;241;43m+\u001b[39;49m\u001b[43m \u001b[49m\u001b[38;5;241;43m2\u001b[39;49m\u001b[43m,\u001b[49m\u001b[43m \u001b[49m\u001b[43mmid\u001b[49m\u001b[43m \u001b[49m\u001b[38;5;241;43m+\u001b[39;49m\u001b[43m \u001b[49m\u001b[38;5;241;43m1\u001b[39;49m\u001b[43m,\u001b[49m\u001b[43m \u001b[49m\u001b[43mend\u001b[49m\u001b[43m)\u001b[49m\n\u001b[0;32m     13\u001b[0m tree[node] \u001b[38;5;241m=\u001b[39m \u001b[38;5;28mmax\u001b[39m(tree[\u001b[38;5;241m2\u001b[39m \u001b[38;5;241m*\u001b[39m node \u001b[38;5;241m+\u001b[39m \u001b[38;5;241m1\u001b[39m], tree[\u001b[38;5;241m2\u001b[39m \u001b[38;5;241m*\u001b[39m node \u001b[38;5;241m+\u001b[39m \u001b[38;5;241m2\u001b[39m])\n",
      "    \u001b[1;31m[... skipping similar frames: tournament_sort.<locals>.build_tree at line 11 (3 times), tournament_sort.<locals>.build_tree at line 12 (1 times)]\u001b[0m\n",
      "Cell \u001b[1;32mIn[20], line 12\u001b[0m, in \u001b[0;36mtournament_sort.<locals>.build_tree\u001b[1;34m(node, start, end)\u001b[0m\n\u001b[0;32m     10\u001b[0m mid \u001b[38;5;241m=\u001b[39m (start \u001b[38;5;241m+\u001b[39m end) \u001b[38;5;241m/\u001b[39m\u001b[38;5;241m/\u001b[39m \u001b[38;5;241m2\u001b[39m\n\u001b[0;32m     11\u001b[0m build_tree(\u001b[38;5;241m2\u001b[39m \u001b[38;5;241m*\u001b[39m node \u001b[38;5;241m+\u001b[39m \u001b[38;5;241m1\u001b[39m, start, mid)\n\u001b[1;32m---> 12\u001b[0m \u001b[43mbuild_tree\u001b[49m\u001b[43m(\u001b[49m\u001b[38;5;241;43m2\u001b[39;49m\u001b[43m \u001b[49m\u001b[38;5;241;43m*\u001b[39;49m\u001b[43m \u001b[49m\u001b[43mnode\u001b[49m\u001b[43m \u001b[49m\u001b[38;5;241;43m+\u001b[39;49m\u001b[43m \u001b[49m\u001b[38;5;241;43m2\u001b[39;49m\u001b[43m,\u001b[49m\u001b[43m \u001b[49m\u001b[43mmid\u001b[49m\u001b[43m \u001b[49m\u001b[38;5;241;43m+\u001b[39;49m\u001b[43m \u001b[49m\u001b[38;5;241;43m1\u001b[39;49m\u001b[43m,\u001b[49m\u001b[43m \u001b[49m\u001b[43mend\u001b[49m\u001b[43m)\u001b[49m\n\u001b[0;32m     13\u001b[0m tree[node] \u001b[38;5;241m=\u001b[39m \u001b[38;5;28mmax\u001b[39m(tree[\u001b[38;5;241m2\u001b[39m \u001b[38;5;241m*\u001b[39m node \u001b[38;5;241m+\u001b[39m \u001b[38;5;241m1\u001b[39m], tree[\u001b[38;5;241m2\u001b[39m \u001b[38;5;241m*\u001b[39m node \u001b[38;5;241m+\u001b[39m \u001b[38;5;241m2\u001b[39m])\n",
      "    \u001b[1;31m[... skipping similar frames: tournament_sort.<locals>.build_tree at line 11 (3 times)]\u001b[0m\n",
      "Cell \u001b[1;32mIn[20], line 11\u001b[0m, in \u001b[0;36mtournament_sort.<locals>.build_tree\u001b[1;34m(node, start, end)\u001b[0m\n\u001b[0;32m      9\u001b[0m \u001b[38;5;28;01melse\u001b[39;00m: \u001b[38;5;66;03m# иначе делим наш диапазон пополам и рекурсивно строим левое и правое поддерево\u001b[39;00m\n\u001b[0;32m     10\u001b[0m     mid \u001b[38;5;241m=\u001b[39m (start \u001b[38;5;241m+\u001b[39m end) \u001b[38;5;241m/\u001b[39m\u001b[38;5;241m/\u001b[39m \u001b[38;5;241m2\u001b[39m\n\u001b[1;32m---> 11\u001b[0m     \u001b[43mbuild_tree\u001b[49m\u001b[43m(\u001b[49m\u001b[38;5;241;43m2\u001b[39;49m\u001b[43m \u001b[49m\u001b[38;5;241;43m*\u001b[39;49m\u001b[43m \u001b[49m\u001b[43mnode\u001b[49m\u001b[43m \u001b[49m\u001b[38;5;241;43m+\u001b[39;49m\u001b[43m \u001b[49m\u001b[38;5;241;43m1\u001b[39;49m\u001b[43m,\u001b[49m\u001b[43m \u001b[49m\u001b[43mstart\u001b[49m\u001b[43m,\u001b[49m\u001b[43m \u001b[49m\u001b[43mmid\u001b[49m\u001b[43m)\u001b[49m\n\u001b[0;32m     12\u001b[0m     build_tree(\u001b[38;5;241m2\u001b[39m \u001b[38;5;241m*\u001b[39m node \u001b[38;5;241m+\u001b[39m \u001b[38;5;241m2\u001b[39m, mid \u001b[38;5;241m+\u001b[39m \u001b[38;5;241m1\u001b[39m, end)\n\u001b[0;32m     13\u001b[0m     tree[node] \u001b[38;5;241m=\u001b[39m \u001b[38;5;28mmax\u001b[39m(tree[\u001b[38;5;241m2\u001b[39m \u001b[38;5;241m*\u001b[39m node \u001b[38;5;241m+\u001b[39m \u001b[38;5;241m1\u001b[39m], tree[\u001b[38;5;241m2\u001b[39m \u001b[38;5;241m*\u001b[39m node \u001b[38;5;241m+\u001b[39m \u001b[38;5;241m2\u001b[39m])\n",
      "Cell \u001b[1;32mIn[20], line 8\u001b[0m, in \u001b[0;36mtournament_sort.<locals>.build_tree\u001b[1;34m(node, start, end)\u001b[0m\n\u001b[0;32m      6\u001b[0m \u001b[38;5;28;01mdef\u001b[39;00m \u001b[38;5;21mbuild_tree\u001b[39m(node, start, end): \u001b[38;5;66;03m# функция для построения дерева\u001b[39;00m\n\u001b[0;32m      7\u001b[0m     \u001b[38;5;28;01mif\u001b[39;00m start \u001b[38;5;241m==\u001b[39m end: \n\u001b[1;32m----> 8\u001b[0m         \u001b[43mtree\u001b[49m\u001b[43m[\u001b[49m\u001b[43mnode\u001b[49m\u001b[43m]\u001b[49m \u001b[38;5;241m=\u001b[39m arr[start]\n\u001b[0;32m      9\u001b[0m     \u001b[38;5;28;01melse\u001b[39;00m: \u001b[38;5;66;03m# иначе делим наш диапазон пополам и рекурсивно строим левое и правое поддерево\u001b[39;00m\n\u001b[0;32m     10\u001b[0m         mid \u001b[38;5;241m=\u001b[39m (start \u001b[38;5;241m+\u001b[39m end) \u001b[38;5;241m/\u001b[39m\u001b[38;5;241m/\u001b[39m \u001b[38;5;241m2\u001b[39m\n",
      "\u001b[1;31mIndexError\u001b[0m: list assignment index out of range"
     ]
    }
   ],
   "source": [
    "# Турнирная сортировка.\n",
    "def tournament_sort(arr):\n",
    "    n = len(arr) \n",
    "    tree = [None] * (2 * n - 1) # создаем список для хранения дерева турнира\n",
    "\n",
    "    def build_tree(node, start, end): # функция для построения дерева\n",
    "        if start == end: \n",
    "            tree[node] = arr[start]\n",
    "        else: # иначе делим наш диапазон пополам и рекурсивно строим левое и правое поддерево\n",
    "            mid = (start + end) // 2\n",
    "            build_tree(2 * node + 1, start, mid)\n",
    "            build_tree(2 * node + 2, mid + 1, end)\n",
    "            tree[node] = max(tree[2 * node + 1], tree[2 * node + 2]) # записываем в текущий узел максимальный элемент из левого и правого поддерева\n",
    "\n",
    "    def query_tree(node, start, end, left, right): # функция для поиска максимального элемента на заданном диапазоне\n",
    "        if left > end or right < start: \n",
    "            return -float('inf')\n",
    "        if left <= start and right >= end: \n",
    "            return tree[node]\n",
    "        mid = (start + end) // 2 \n",
    "        return max(query_tree(2 * node + 1, start, mid, left, right), \n",
    "                   query_tree(2 * node + 2, mid + 1, end, left, right))\n",
    "\n",
    "    def find_winner(l, r): # функция для определения победителя между двумя индексами массива\n",
    "        return l if arr[l] < arr[r] else r\n",
    "\n",
    "    def tournament(start, end): # функция для проведения турнира\n",
    "        if start == end: \n",
    "            return start\n",
    "        mid = (start + end) // 2 \n",
    "        left = tournament(start, mid)\n",
    "        right = tournament(mid + 1, end)\n",
    "        return find_winner(left, right)\n",
    "    build_tree(0, 0, n - 1)\n",
    "    sorted_arr = []\n",
    "    for i in range(n):\n",
    "        winner_index = tournament(0, n - 1 - i)\n",
    "        sorted_arr.append(arr[winner_index])\n",
    "        arr.pop(winner_index)\n",
    "    return sorted_arr\n",
    "\n",
    "\n",
    "start_time = time.time()\n",
    "\n",
    "for line in matrix:\n",
    "    tournament_sort(line.copy())\n",
    "\n",
    "print(f'Tournament sort: {round((time.time() - start_time) * 1000)} ms')"
   ]
  },
  {
   "cell_type": "markdown",
   "id": "rental-jerusalem",
   "metadata": {
    "id": "rental-jerusalem"
   },
   "source": [
    "### Вывод\n"
   ]
  },
  {
   "cell_type": "markdown",
   "id": "9d108a0a",
   "metadata": {
    "id": "9d108a0a"
   },
   "source": []
  }
 ],
 "metadata": {
  "colab": {
   "provenance": []
  },
  "kernelspec": {
   "display_name": "Python 3 (ipykernel)",
   "language": "python",
   "name": "python3"
  },
  "language_info": {
   "codemirror_mode": {
    "name": "ipython",
    "version": 3
   },
   "file_extension": ".py",
   "mimetype": "text/x-python",
   "name": "python",
   "nbconvert_exporter": "python",
   "pygments_lexer": "ipython3",
   "version": "3.11.1"
  }
 },
 "nbformat": 4,
 "nbformat_minor": 5
}
