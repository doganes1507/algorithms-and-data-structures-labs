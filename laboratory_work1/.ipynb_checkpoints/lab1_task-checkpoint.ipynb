{
 "cells": [
  {
   "cell_type": "markdown",
   "id": "fifteen-sailing",
   "metadata": {
    "id": "fifteen-sailing"
   },
   "source": [
    "# Лабораторная работа №1\n",
    "## Выполнил студент группы БСТ2101 Оганесян Давид Артакович"
   ]
  },
  {
   "cell_type": "markdown",
   "id": "particular-syndicate",
   "metadata": {
    "id": "particular-syndicate"
   },
   "source": [
    "### Оглавление\n",
    "1. [Задание 1](#Задание-№1)\n",
    "2. [Задание 2](#Задание-№2)\n",
    "3. [Задание 3](#Задание-№3)\n",
    "4. [Вывод](#Вывод)"
   ]
  },
  {
   "cell_type": "markdown",
   "id": "arctic-stocks",
   "metadata": {
    "id": "arctic-stocks"
   },
   "source": [
    "### Задание №1\n",
    "<i> Вызвать функцию print() и передать туда строку Hello, World! </i>"
   ]
  },
  {
   "cell_type": "code",
   "execution_count": 1,
   "id": "caring-truck",
   "metadata": {
    "id": "caring-truck",
    "scrolled": true
   },
   "outputs": [
    {
     "name": "stdout",
     "output_type": "stream",
     "text": [
      "Hello World\n"
     ]
    }
   ],
   "source": [
    "print('Hello World')"
   ]
  },
  {
   "cell_type": "markdown",
   "id": "maritime-conversation",
   "metadata": {
    "id": "maritime-conversation"
   },
   "source": [
    "### Задание №2\n",
    "Написать генератор случайных матриц(многомерных), который принимает\n",
    "опциональные параметры <b>m</b>, <b>n</b>, <b>min_limit</b>, <b>max_limit</b>, где <b>m</b> и <b>n</b> указывают размер\n",
    "матрицы, а <b>min_lim</b> и <b>max_lim</b> - минимальное и максимальное значение для\n",
    "генерируемого числа."
   ]
  },
  {
   "cell_type": "code",
   "execution_count": 2,
   "id": "built-contact",
   "metadata": {
    "id": "built-contact"
   },
   "outputs": [],
   "source": [
    "from random import randint\n",
    "import time"
   ]
  },
  {
   "cell_type": "code",
   "execution_count": 3,
   "id": "alert-charm",
   "metadata": {
    "id": "alert-charm",
    "outputId": "c95dd9e7-d076-4718-b6fb-25f2e6bc03b9"
   },
   "outputs": [
    {
     "name": "stdout",
     "output_type": "stream",
     "text": [
      "number of matrix rows: 5\n",
      "number of matrix columns: 10000\n",
      "random generator min limit: -1000\n",
      "random generator max limit: 1000\n"
     ]
    }
   ],
   "source": [
    "def generate_matrix(n, m, min_limit, max_limit):\n",
    "    return [[randint(min_limit, max_limit) for _ in range(m)] for _ in range(n)]\n",
    "\n",
    "\n",
    "n = int(input('number of matrix rows: '))\n",
    "m = int(input('number of matrix columns: '))\n",
    "min_limit = int(input('random generator min limit: '))\n",
    "max_limit = int(input('random generator max limit: '))\n",
    "\n",
    "matrix = generate_matrix(n, m, min_limit, max_limit)\n",
    "\n",
    "#for line in matrix:\n",
    "#    print(*line)"
   ]
  },
  {
   "cell_type": "markdown",
   "id": "catholic-roots",
   "metadata": {
    "id": "catholic-roots"
   },
   "source": [
    "### Задание №3\n",
    "Реализовать методы сортировки строк числовой матрицы в соответствии с\n",
    "заданием. Оценить время работы каждого алгоритма сортировки и сравнить его со\n",
    "временем стандартной функции сортировки. Испытания проводить на сгенерированных\n",
    "матрицах."
   ]
  },
  {
   "cell_type": "code",
   "execution_count": 4,
   "id": "opposed-creature",
   "metadata": {
    "id": "opposed-creature"
   },
   "outputs": [],
   "source": [
    "import copy"
   ]
  },
  {
   "cell_type": "code",
   "execution_count": 5,
   "id": "cleared-anniversary",
   "metadata": {
    "id": "cleared-anniversary",
    "outputId": "b7c76c60-4acb-4c14-9bfb-d4f8d71093a1"
   },
   "outputs": [
    {
     "name": "stdout",
     "output_type": "stream",
     "text": [
      "Selection sort: 11353 ms\n"
     ]
    }
   ],
   "source": [
    "# Сортировка выбором\n",
    "def selection_sort(array: list):\n",
    "    for i in range(len(array)):\n",
    "        min_index = i\n",
    "\n",
    "        for j in range(i + 1, len(array)):\n",
    "            if array[j] < array[min_index]:\n",
    "                min_index = j\n",
    "\n",
    "        array[min_index], array[i] = array[i], array[min_index]\n",
    "\n",
    "\n",
    "copied_matrix = copy.deepcopy(matrix)\n",
    "\n",
    "start_time = time.time()\n",
    "\n",
    "for line in copied_matrix:\n",
    "    selection_sort(line)\n",
    "\n",
    "print(f'Selection sort: {round((time.time() - start_time) * 1000)} ms')"
   ]
  },
  {
   "cell_type": "code",
   "execution_count": 6,
   "id": "roman-silly",
   "metadata": {
    "id": "roman-silly",
    "outputId": "84666b71-fb68-4c07-d27d-e716af29fcbb",
    "scrolled": true
   },
   "outputs": [
    {
     "name": "stdout",
     "output_type": "stream",
     "text": [
      "Insertion sort: 8021 ms\n"
     ]
    }
   ],
   "source": [
    "# Сортировка вставкой.\n",
    "def insertion_sort(array: list):\n",
    "    for i in range(1, len(array)):\n",
    "        x = array[i]\n",
    "        j = i - 1\n",
    "\n",
    "        while j >= 0 and x < array[j]:\n",
    "            array[j + 1] = array[j]\n",
    "            j -= 1\n",
    "        array[j + 1] = x\n",
    "\n",
    "\n",
    "copied_matrix = copy.deepcopy(matrix)\n",
    "\n",
    "start_time = time.time()\n",
    "\n",
    "for line in copied_matrix:\n",
    "    insertion_sort(line)\n",
    "\n",
    "print(f'Insertion sort: {round((time.time() - start_time) * 1000)} ms')"
   ]
  },
  {
   "cell_type": "code",
   "execution_count": 7,
   "id": "vital-implementation",
   "metadata": {
    "id": "vital-implementation",
    "outputId": "7b648bf5-37a5-4d47-926d-b799f7a23be2"
   },
   "outputs": [
    {
     "name": "stdout",
     "output_type": "stream",
     "text": [
      "Bubble sort: 21233 ms\n"
     ]
    }
   ],
   "source": [
    "# Сортировка пузырьком.\n",
    "def bubble_sort(array: list):\n",
    "    for i in range(len(array) - 1):\n",
    "        for j in range(len(array) - i - 1):\n",
    "            if array[j] > array[j + 1]:\n",
    "                array[j], array[j + 1] = array[j + 1], array[j]\n",
    "\n",
    "\n",
    "copied_matrix = copy.deepcopy(matrix)\n",
    "\n",
    "start_time = time.time()\n",
    "\n",
    "for line in copied_matrix:\n",
    "    bubble_sort(line)\n",
    "\n",
    "print(f'Bubble sort: {round((time.time() - start_time) * 1000)} ms')"
   ]
  },
  {
   "cell_type": "code",
   "execution_count": 8,
   "id": "veterinary-glory",
   "metadata": {
    "id": "veterinary-glory",
    "outputId": "9cc2a9ff-ec7a-43de-e4a8-47945d030986"
   },
   "outputs": [
    {
     "name": "stdout",
     "output_type": "stream",
     "text": [
      "Shell sort: 111 ms\n"
     ]
    }
   ],
   "source": [
    "# Сортировка Шелла.\n",
    "def shell_sort(array: list):\n",
    "    interval = len(array) // 2\n",
    "\n",
    "    while interval > 0:\n",
    "        for i in range(interval, len(array)):\n",
    "            temp = array[i]\n",
    "            j = i\n",
    "\n",
    "            while j >= interval and array[j - interval] > temp:\n",
    "                array[j] = array[j - interval]\n",
    "                j -= interval\n",
    "\n",
    "            array[j] = temp\n",
    "\n",
    "        interval //= 2\n",
    "\n",
    "\n",
    "copied_matrix = copy.deepcopy(matrix)\n",
    "\n",
    "start_time = time.time()\n",
    "\n",
    "for line in copied_matrix:\n",
    "    shell_sort(line)\n",
    "\n",
    "print(f'Shell sort: {round((time.time() - start_time) * 1000)} ms')"
   ]
  },
  {
   "cell_type": "code",
   "execution_count": 9,
   "id": "correct-chaos",
   "metadata": {
    "id": "correct-chaos",
    "outputId": "f4d9aef1-8a2f-46a0-def0-4c9e049f5c77"
   },
   "outputs": [
    {
     "name": "stdout",
     "output_type": "stream",
     "text": [
      "Quick sort: 88 ms\n"
     ]
    }
   ],
   "source": [
    "# Быстрая сортировка.\n",
    "def quick_sort(array: list):\n",
    "    if len(array) > 1:\n",
    "        pivot = array[0]\n",
    "        left, right = [], []\n",
    "\n",
    "        for i in range(1, len(array)):\n",
    "            if array[i] < pivot:\n",
    "                left.append(array[i])\n",
    "            else:\n",
    "                right.append(array[i])\n",
    "\n",
    "        quick_sort(left)\n",
    "        quick_sort(right)\n",
    "        array.clear()\n",
    "        array += left + [pivot] + right\n",
    "\n",
    "\n",
    "copied_matrix = copy.deepcopy(matrix)\n",
    "\n",
    "start_time = time.time()\n",
    "\n",
    "for line in copied_matrix:\n",
    "    quick_sort(line)\n",
    "\n",
    "print(f'Quick sort: {round((time.time() - start_time) * 1000)} ms')"
   ]
  },
  {
   "cell_type": "code",
   "execution_count": 10,
   "id": "french-czech",
   "metadata": {
    "colab": {
     "base_uri": "https://localhost:8080/",
     "height": 217
    },
    "executionInfo": {
     "elapsed": 433,
     "status": "error",
     "timestamp": 1645638345253,
     "user": {
      "displayName": "Sergey Simonov",
      "photoUrl": "https://lh3.googleusercontent.com/a-/AOh14GhQdeIfzzsg8bfb7DLHaLzEFH8Ebg2FyuaL9YoQyA=s64",
      "userId": "14094206399671235086"
     },
     "user_tz": -180
    },
    "id": "french-czech",
    "outputId": "7e38b779-8bbf-4955-c3ad-2a6be0ee386a"
   },
   "outputs": [
    {
     "name": "stdout",
     "output_type": "stream",
     "text": [
      "Tournament sort: 22 ms\n"
     ]
    }
   ],
   "source": [
    "# Турнирная сортировка.\n",
    "def tournament_sort(arr):\n",
    "    n = len(arr)\n",
    "    tree_size = 2 * n - 1\n",
    "    tree = [None] * tree_size\n",
    "\n",
    "    for i in range(n):\n",
    "        tree[tree_size - n + i] = arr[i]\n",
    "\n",
    "    for i in range(tree_size - n, -1, -1):\n",
    "        left = tree[2 * i - 1]\n",
    "        right = tree[2 * i - 2]\n",
    "        if left is not None and right is not None:\n",
    "            tree[i] = max(left, right)\n",
    "        elif left is not None:\n",
    "            tree[i] = left\n",
    "        elif right is not None:\n",
    "            tree[i] = right\n",
    "\n",
    "    sorted_arr = []\n",
    "    for i in range(n):\n",
    "        winner = tree[0]\n",
    "        sorted_arr.append(winner)\n",
    "\n",
    "        j = tree.index(winner)\n",
    "        tree[j] = None\n",
    "        while j > 0:\n",
    "            parent = (j - 1) // 2\n",
    "            sibling = j + 1 if j % 2 == 0 else j - 1\n",
    "            if tree[sibling] is not None:\n",
    "                loser = tree[sibling]\n",
    "            else:\n",
    "                loser = tree[parent]\n",
    "            tree[parent] = max(tree[parent], loser)\n",
    "            j = parent\n",
    "\n",
    "    return sorted_arr\n",
    "\n",
    "\n",
    "copied_matrix = copy.deepcopy(matrix)\n",
    "\n",
    "start_time = time.time()\n",
    "\n",
    "for line in copied_matrix:\n",
    "    tournament_sort(line)\n",
    "\n",
    "print(f'Tournament sort: {round((time.time() - start_time) * 1000)} ms')"
   ]
  },
  {
   "cell_type": "markdown",
   "id": "rental-jerusalem",
   "metadata": {
    "id": "rental-jerusalem"
   },
   "source": [
    "### Вывод\n"
   ]
  },
  {
   "cell_type": "markdown",
   "id": "9d108a0a",
   "metadata": {
    "id": "9d108a0a"
   },
   "source": [
    "В ходе данной лабораторной работой я ознакомился с несколькими видами алгоритмов сортировок и реализовал их с использованием Python."
   ]
  }
 ],
 "metadata": {
  "colab": {
   "provenance": []
  },
  "kernelspec": {
   "display_name": "Python 3 (ipykernel)",
   "language": "python",
   "name": "python3"
  },
  "language_info": {
   "codemirror_mode": {
    "name": "ipython",
    "version": 3
   },
   "file_extension": ".py",
   "mimetype": "text/x-python",
   "name": "python",
   "nbconvert_exporter": "python",
   "pygments_lexer": "ipython3",
   "version": "3.11.1"
  }
 },
 "nbformat": 4,
 "nbformat_minor": 5
}
