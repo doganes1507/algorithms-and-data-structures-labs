{
 "cells": [
  {
   "cell_type": "markdown",
   "id": "fifteen-sailing",
   "metadata": {
    "id": "fifteen-sailing"
   },
   "source": [
    "# Лабораторная работа №4\n",
    "## Выполнил студент группы БСТ2101 Оганесян Давид Артакович"
   ]
  },
  {
   "cell_type": "markdown",
   "id": "arctic-stocks",
   "metadata": {
    "id": "arctic-stocks"
   },
   "source": [
    "Реализовать следующие структуры данных:\n",
    "  \n",
    "● <b> Стек (stack): </b>  \n",
    "Операции для стека: \n",
    "<i> инициализация, проверка на пустоту, добавление нового элемента в начало, извлечение элемента из начала;  </i>  \n",
    "  \n",
    "● <b> Дек (двусторонняя очередь, deque):  </b>  \n",
    "Операции для дека: \n",
    "<i> инициализация, проверка на пустоту, добавление нового элемента в начало, добавление нового элемента в конец, извлечение элемента из начала, извлечение элемента из конца. </i>  \n",
    "  \n",
    "<i> Разработать программу обработки данных, содержащихся в заранее подготовленном txt-файле, в соответствии с заданиями, применив указанную в задании структуру данных. Результат работы программы вывести на экран и сохранить в отдельном txt-файле. </i>"
   ]
  },
  {
   "cell_type": "code",
   "execution_count": 1,
   "id": "05c5faaa",
   "metadata": {},
   "outputs": [],
   "source": [
    "class Stack:\n",
    "    def __init__(self, *elements):\n",
    "        self._data = list(elements)\n",
    "\n",
    "    def size(self):\n",
    "        return len(self._data)\n",
    "\n",
    "    def is_empty(self):\n",
    "        return len(self._data) == 0\n",
    "\n",
    "    def reverse(self):\n",
    "        self._data.reverse()\n",
    "\n",
    "    def add_last(self, *objects):\n",
    "        for obj in objects:\n",
    "            self._data.append(obj)\n",
    "\n",
    "    def get_last(self):\n",
    "        if not self.is_empty():\n",
    "            return self._data[-1]\n",
    "\n",
    "    def pop_last(self):\n",
    "        if not self.is_empty():\n",
    "            return self._data.pop()\n"
   ]
  },
  {
   "cell_type": "code",
   "execution_count": 2,
   "id": "9324c52b",
   "metadata": {},
   "outputs": [],
   "source": [
    "from Stack import Stack\n",
    "\n",
    "\n",
    "class Deque(Stack):\n",
    "    def add_first(self, *objects):\n",
    "        for obj in objects:\n",
    "            self._data.insert(0, obj)\n",
    "\n",
    "    def get_first(self):\n",
    "        if not self.is_empty():\n",
    "            return self._data[0]\n",
    "\n",
    "    def pop_first(self):\n",
    "        if not self.is_empty():\n",
    "            return self._data.pop(0)\n",
    "\n",
    "    def rotate(self, backward=False):\n",
    "        if backward is True:\n",
    "            self.add_first(self.pop_last())\n",
    "        else:\n",
    "            self.add_last(self.pop_first())\n"
   ]
  },
  {
   "cell_type": "code",
   "execution_count": 7,
   "id": "898df06a",
   "metadata": {},
   "outputs": [],
   "source": [
    "import os\n",
    "from random import shuffle"
   ]
  },
  {
   "cell_type": "markdown",
   "id": "5d7edb08",
   "metadata": {
    "id": "5d7edb08",
    "scrolled": true
   },
   "source": [
    "### Задание №1\n",
    "Отсортировать строки файла, содержащие названия книг, в алфавитном порядке с использованием двух деков."
   ]
  },
  {
   "cell_type": "code",
   "execution_count": 9,
   "id": "17702ade",
   "metadata": {
    "id": "17702ade"
   },
   "outputs": [
    {
     "name": "stdout",
     "output_type": "stream",
     "text": [
      "1984\n",
      "Robinson Crusoe\n",
      "The Little Princ\n",
      "The Old Man and the Sea\n",
      "War and Peace\n"
     ]
    }
   ],
   "source": [
    "def alphabet_sort(books):\n",
    "    result = []\n",
    "    d1 = Deque(*[book[:-1] for book in books.readlines()])\n",
    "    d2 = Deque()\n",
    "\n",
    "    while not d1.is_empty():\n",
    "        while not d2.is_empty() and d2.get_first() < d1.get_first():\n",
    "            d1.add_last(d2.pop_first())\n",
    "        d2.add_first(d1.pop_first())\n",
    "\n",
    "    while not d2.is_empty():\n",
    "        result.append(d2.pop_first())\n",
    "    return result\n",
    "\n",
    "\n",
    "books = open(os.getcwd() + '\\\\test1')\n",
    "print(*alphabet_sort(books), sep='\\n')\n"
   ]
  },
  {
   "cell_type": "markdown",
   "id": "49fbd2a0",
   "metadata": {
    "id": "49fbd2a0"
   },
   "source": [
    "### Задание №2\n",
    "Дек содержит последовательность символов для шифровки сообщений. Дан текстовый файл, содержащий зашифрованное сообщение. Пользуясь деком, расшифровать текст. \n",
    "Известно, что при шифровке каждый символ сообщения заменялся следующим за ним в деке по часовой стрелке через один."
   ]
  },
  {
   "cell_type": "code",
   "execution_count": 10,
   "id": "81cab7a8",
   "metadata": {
    "id": "81cab7a8"
   },
   "outputs": [
    {
     "name": "stdout",
     "output_type": "stream",
     "text": [
      "r D v b A p s y M F L T V X Q P E q O Y W x n e G w u K Z j z J h f g d o H a I N S c R t C U B l m k i\n",
      "Enter text: Hello! My name is David, I am 19 years old.\n",
      "aGmmH! FM eIkG ry vIbro, N Ik 19 MGIDy Hmo.\n",
      "Hello! My name is David, I am 19 years old.\n"
     ]
    }
   ],
   "source": [
    "def encode(text: str):\n",
    "    result = []\n",
    "\n",
    "    for letter in text:\n",
    "        if not letter.isalpha():\n",
    "            result += letter\n",
    "        else:\n",
    "            while key_ring.get_first() != letter:\n",
    "                key_ring.rotate()\n",
    "            key_ring.rotate()\n",
    "            result += key_ring.get_first()\n",
    "\n",
    "    return ''.join(result)\n",
    "\n",
    "\n",
    "def decode(text):\n",
    "    result = ''\n",
    "\n",
    "    for letter in text:\n",
    "        if not letter.isalpha():\n",
    "            result += letter\n",
    "        else:\n",
    "            while key_ring.get_first() != letter:\n",
    "                key_ring.rotate(backward=True)\n",
    "            key_ring.rotate(backward=True)\n",
    "            result += key_ring.get_first()\n",
    "\n",
    "    return ''.join(result)\n",
    "\n",
    "\n",
    "alphabet = list('abcdefghijklmnopqrstuvwxyz')\n",
    "alphabet += ''.join(alphabet).upper()\n",
    "shuffle(alphabet)\n",
    "print(*alphabet)\n",
    "\n",
    "key_ring = Deque(*[letter for letter in alphabet])\n",
    "\n",
    "text = input('Enter text: ')\n",
    "encoded_text = encode(text)\n",
    "decoded_text = decode(encoded_text)\n",
    "print(encoded_text)\n",
    "print(decoded_text)\n"
   ]
  },
  {
   "cell_type": "markdown",
   "id": "c0894f47",
   "metadata": {
    "id": "c0894f47"
   },
   "source": [
    "### Задание №3\n",
    "Даны три стержня и n дисков различного размера. Диски можно надевать на стержни, образуя из них башни. Перенести n дисков со стержня А на стержень С, сохранив их первоначальный порядок. При переносе дисков необходимо соблюдать следующие правила:\n",
    "- на каждом шаге со стержня на стержень переносить только один диск;\n",
    "- диск нельзя помещать на диск меньшего размера;\n",
    "- для промежуточного хранения можно использовать стержень В.\n",
    "Реализовать алгоритм, используя три стека вместо стержней А, В, С. Информация о дисках хранится в исходном файле."
   ]
  },
  {
   "cell_type": "code",
   "execution_count": 12,
   "id": "9e91a9d4",
   "metadata": {
    "id": "9e91a9d4"
   },
   "outputs": [
    {
     "name": "stdout",
     "output_type": "stream",
     "text": [
      "Enter number of disks: 10\n",
      "1\n",
      "2\n",
      "3\n",
      "4\n",
      "5\n",
      "6\n",
      "7\n",
      "8\n",
      "9\n",
      "10\n"
     ]
    }
   ],
   "source": [
    "def move(a, b):\n",
    "    if c.size() == len(disks):\n",
    "        return\n",
    "    if a.size() == 0 and b.size() > 0:\n",
    "        a.add_last(b.pop_last())\n",
    "    elif a.size() > 0 and b.size() == 0:\n",
    "        b.add_last(a.pop_last())\n",
    "    elif a.size() > 0 and b.size() > 0:\n",
    "        if a.get_last() > b.get_last():\n",
    "            a.add_last(b.pop_last())\n",
    "        else:\n",
    "            b.add_last(a.pop_last())\n",
    "\n",
    "\n",
    "disks = [_ for _ in range(int(input('Enter number of disks: ')), 0, -1)]\n",
    "\n",
    "a = Stack(*disks)\n",
    "b = Stack()\n",
    "c = Stack()\n",
    "\n",
    "while c.size() != len(disks):\n",
    "    move(a, c)\n",
    "    move(a, b)\n",
    "    move(b, c)\n",
    "\n",
    "while not c.is_empty():\n",
    "    print(c.pop_last())\n"
   ]
  },
  {
   "cell_type": "markdown",
   "id": "e5b0be17",
   "metadata": {
    "id": "e5b0be17"
   },
   "source": [
    "### Задание №4\n",
    "Дан текстовый файл с программой на алгоритмическом языке. За один просмотр файла проверить баланс круглых скобок в тексте, используя стек."
   ]
  },
  {
   "cell_type": "code",
   "execution_count": 13,
   "id": "5b1df60a",
   "metadata": {
    "id": "5b1df60a"
   },
   "outputs": [
    {
     "name": "stdout",
     "output_type": "stream",
     "text": [
      "True\n",
      "False\n",
      "False\n",
      "True\n"
     ]
    }
   ],
   "source": [
    "def check_curve_braces(program: str):\n",
    "    stack = Stack()\n",
    "    for letter in program:\n",
    "        if letter == '(':\n",
    "            stack.add_last(letter)\n",
    "        elif letter == ')':\n",
    "            if stack.is_empty():\n",
    "                return False\n",
    "            else:\n",
    "                stack.pop_last()\n",
    "\n",
    "    return True if stack.is_empty() else False\n",
    "\n",
    "\n",
    "print(check_curve_braces('(())'))\n",
    "print(check_curve_braces('((())'))\n",
    "print(check_curve_braces('(()))'))\n",
    "print(check_curve_braces('(()())()'))\n"
   ]
  },
  {
   "cell_type": "markdown",
   "id": "c44cdd6b",
   "metadata": {
    "id": "c44cdd6b"
   },
   "source": [
    "### Задание №5\n",
    "Дан текстовый файл с программой на алгоритмическом языке. За один просмотр файла проверить баланс квадратных скобок в тексте, используя дек."
   ]
  },
  {
   "cell_type": "code",
   "execution_count": null,
   "id": "36b8f400",
   "metadata": {
    "id": "36b8f400"
   },
   "outputs": [],
   "source": [
    "def check_square_braces(program: str):\n",
    "    stack = Deque()\n",
    "    for letter in program:\n",
    "        if letter == '[':\n",
    "            stack.add_last(letter)\n",
    "        elif letter == ']':\n",
    "            if stack.is_empty():\n",
    "                return False\n",
    "            else:\n",
    "                stack.pop_last()\n",
    "\n",
    "    return True if stack.is_empty() else False\n",
    "\n",
    "\n",
    "print(check_curve_braces('[[]]'))\n",
    "print(check_curve_braces('[[[]]'))\n",
    "print(check_curve_braces('[[]]]'))\n",
    "print(check_curve_braces('[[][]][]'))"
   ]
  },
  {
   "cell_type": "markdown",
   "id": "59d13dc7",
   "metadata": {
    "id": "59d13dc7"
   },
   "source": [
    "### Задание №6\n",
    "Дан файл из символов. Используя стек, за один просмотр файла напечатать сначала все цифры, затем все буквы, и, наконец, все остальные символы, сохраняя исходный порядок в каждой группе символов."
   ]
  },
  {
   "cell_type": "code",
   "execution_count": 14,
   "id": "297e36c2",
   "metadata": {
    "id": "297e36c2"
   },
   "outputs": [
    {
     "name": "stdout",
     "output_type": "stream",
     "text": [
      "1234abcd?<+(\n"
     ]
    }
   ],
   "source": [
    "def digits_letters_others(text: str):\n",
    "    result = []\n",
    "    letters = Stack()\n",
    "    other_symbols = Stack()\n",
    "\n",
    "    for element in text:\n",
    "        if element.isdigit():\n",
    "            result += element\n",
    "        elif element.isalpha():\n",
    "            letters.add_last(element)\n",
    "        else:\n",
    "            other_symbols.add_last(element)\n",
    "    letters.reverse()\n",
    "    other_symbols.reverse()\n",
    "\n",
    "    while not letters.is_empty():\n",
    "        result += letters.pop_last()\n",
    "\n",
    "    while not other_symbols.is_empty():\n",
    "        result += other_symbols.pop_last()\n",
    "\n",
    "    return ''.join(result)\n",
    "\n",
    "\n",
    "print(digits_letters_others('a?b<cd1+2(34'))"
   ]
  },
  {
   "cell_type": "markdown",
   "id": "973f68bd",
   "metadata": {
    "id": "973f68bd"
   },
   "source": [
    "### Задание №7\n",
    "Дан файл из целых чисел. Используя дек, за один просмотр файла напечатать сначала все отрицательные числа, затем все положительные числа, сохраняя исходный порядок в каждой группе."
   ]
  },
  {
   "cell_type": "code",
   "execution_count": 15,
   "id": "c56fad66",
   "metadata": {
    "id": "c56fad66"
   },
   "outputs": [
    {
     "name": "stdout",
     "output_type": "stream",
     "text": [
      "[-3, -7, -9, 2, 5, 8]\n"
     ]
    }
   ],
   "source": [
    "def negatives_positives(numbers):\n",
    "    result = []\n",
    "    positives = Deque()\n",
    "\n",
    "    for element in numbers:\n",
    "        if element < 0:\n",
    "            result.append(element)\n",
    "        else:\n",
    "            positives.add_last(element)\n",
    "\n",
    "    while not positives.is_empty():\n",
    "        result.append(positives.pop_first())\n",
    "\n",
    "    return result\n",
    "\n",
    "\n",
    "print(negatives_positives([2, -3, 5, -7, 8, -9]))"
   ]
  },
  {
   "cell_type": "markdown",
   "id": "b9228191",
   "metadata": {
    "id": "b9228191"
   },
   "source": [
    "### Задание №8\n",
    "Дан текстовый файл. Используя стек, сформировать новый текстовый файл, содержащий строки исходного файла, записанные в обратном порядке: первая строка становится последней, вторая – предпоследней и т.д."
   ]
  },
  {
   "cell_type": "code",
   "execution_count": 20,
   "id": "981fbdfe",
   "metadata": {
    "id": "981fbdfe"
   },
   "outputs": [
    {
     "name": "stdout",
     "output_type": "stream",
     "text": [
      "uvwx\n",
      "qrst\n",
      "mnop\n",
      "ijkl\n",
      "efgh\n",
      "abcd\n",
      "\n"
     ]
    }
   ],
   "source": [
    "def swap_lines(text: list[str]):\n",
    "    result = []\n",
    "    lines = Stack()\n",
    "\n",
    "    [lines.add_last(line) for line in text]\n",
    "    while not lines.is_empty():\n",
    "        result.append(lines.pop_last())\n",
    "\n",
    "    return result\n",
    "\n",
    "\n",
    "text = open(os.getcwd() + '\\\\test8')\n",
    "print(*swap_lines(text.readlines()), sep='')"
   ]
  },
  {
   "cell_type": "markdown",
   "id": "rental-jerusalem",
   "metadata": {
    "id": "rental-jerusalem"
   },
   "source": [
    "### Вывод\n"
   ]
  },
  {
   "cell_type": "markdown",
   "id": "5e73be54",
   "metadata": {},
   "source": [
    "В результате проделанной работы были в полной мере изучены такие структуры данных как Stack и Deque"
   ]
  }
 ],
 "metadata": {
  "colab": {
   "provenance": []
  },
  "kernelspec": {
   "display_name": "Python 3 (ipykernel)",
   "language": "python",
   "name": "python3"
  },
  "language_info": {
   "codemirror_mode": {
    "name": "ipython",
    "version": 3
   },
   "file_extension": ".py",
   "mimetype": "text/x-python",
   "name": "python",
   "nbconvert_exporter": "python",
   "pygments_lexer": "ipython3",
   "version": "3.11.1"
  }
 },
 "nbformat": 4,
 "nbformat_minor": 5
}
