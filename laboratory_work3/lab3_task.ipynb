{
 "cells": [
  {
   "cell_type": "markdown",
   "metadata": {
    "id": "0z3KlfKDn4_K"
   },
   "source": [
    "# Лабораторная работа 3. \n",
    "# Сетевые алгоритмы. Динамические алгоритмы поиска путей.\n"
   ]
  },
  {
   "cell_type": "markdown",
   "metadata": {
    "id": "96Gi_LEvmSVH"
   },
   "source": [
    "## Выполнил студент группы БСТ2101 Оганесян Давид Артакович\n",
    "***"
   ]
  },
  {
   "cell_type": "markdown",
   "metadata": {
    "id": "GjdIp8aToKIe"
   },
   "source": [
    "### Задание\n",
    "\n",
    "1.  Реализовать алгоритм поиска кратчайшего расстояния между двумя вершинами ориентированного взвешенного графа в соответствии с вариантом. \n",
    "\n",
    "2.  Предусмотреть задание графа в виде матрицы смежности/инцидентности, читаемой из файла, либо графически с помощью пользовательского интерфейса. \n",
    "\n",
    "3.  Разработать графический интерфейс пользователя с визуализацией графа и отображением кратчайшего расстояния между задаваемыми пользователем вершинами.\n",
    "\n",
    "4. По результатам работы проанализировать временную сложность работы заданного алгоритма в зависимости от числа узлов и ребер графа.\n",
    "Данные представить в виде таблицы.\n",
    "\n"
   ]
  },
  {
   "cell_type": "markdown",
   "metadata": {
    "id": "LhhUXrAmotIA"
   },
   "source": [
    "### Алгоритмы:\n",
    "\n",
    "Алгоритм Флойда-Уоршелла| Алгоритм Дейкстры | Алгоритм Беллмана-Форда | Алгоритм Джонсона| Алгоритм Левита | Алгоритм Йена\n",
    "\n"
   ]
  },
  {
   "cell_type": "markdown",
   "metadata": {
    "id": "Wggfn8l7nG72"
   },
   "source": [
    "### Выполнение:"
   ]
  },
  {
   "cell_type": "code",
   "execution_count": 5,
   "metadata": {
    "id": "681a95mZnOSa",
    "ExecuteTime": {
     "start_time": "2023-05-04T15:44:47.254988Z",
     "end_time": "2023-05-04T15:44:47.265671Z"
    }
   },
   "outputs": [],
   "source": [
    "def bubble_sort(array: list):\n",
    "    for i in range(len(array) - 1):\n",
    "        for j in range(len(array) - i - 1):\n",
    "            if array[j] > array[j + 1]:\n",
    "                array[j], array[j + 1] = array[j + 1], array[j]\n",
    "\n",
    "\n",
    "def selection_sort(array: list):\n",
    "    for i in range(len(array)):\n",
    "        min_index = i\n",
    "\n",
    "        for j in range(i + 1, len(array)):\n",
    "            if array[j] < array[min_index]:\n",
    "                min_index = j\n",
    "\n",
    "        array[min_index], array[i] = array[i], array[min_index]\n",
    "\n",
    "\n",
    "def insertion_sort(array: list):\n",
    "    for i in range(1, len(array)):\n",
    "        x = array[i]\n",
    "        j = i - 1\n",
    "\n",
    "        while j >= 0 and x < array[j]:\n",
    "            array[j + 1] = array[j]\n",
    "            j -= 1\n",
    "        array[j + 1] = x\n",
    "\n",
    "\n",
    "def shell_sort(array: list):\n",
    "    interval = len(array) // 2\n",
    "\n",
    "    while interval > 0:\n",
    "        for i in range(interval, len(array)):\n",
    "            temp = array[i]\n",
    "            j = i\n",
    "\n",
    "            while j >= interval and array[j - interval] > temp:\n",
    "                array[j] = array[j - interval]\n",
    "                j -= interval\n",
    "\n",
    "            array[j] = temp\n",
    "\n",
    "        interval //= 2\n",
    "\n",
    "\n",
    "def quick_sort(array: list):\n",
    "    if len(array) > 1:\n",
    "        pivot = array[0]\n",
    "        left, right = [], []\n",
    "\n",
    "        for i in range(1, len(array)):\n",
    "            if array[i] < pivot:\n",
    "                left.append(array[i])\n",
    "            else:\n",
    "                right.append(array[i])\n",
    "\n",
    "        quick_sort(left)\n",
    "        quick_sort(right)\n",
    "        array.clear()\n",
    "        array += left + [pivot] + right\n",
    "\n",
    "\n",
    "def tournament_sort(arr):\n",
    "    n = len(arr)\n",
    "    tree_size = 2 * n - 1\n",
    "    tree = [None] * tree_size\n",
    "\n",
    "    for i in range(n):\n",
    "        tree[tree_size - n + i] = arr[i]\n",
    "\n",
    "    for i in range(tree_size - n, -1, -1):\n",
    "        left = tree[2 * i - 1]\n",
    "        right = tree[2 * i - 2]\n",
    "        if left is not None and right is not None:\n",
    "            tree[i] = max(left, right)\n",
    "        elif left is not None:\n",
    "            tree[i] = left\n",
    "        elif right is not None:\n",
    "            tree[i] = right\n",
    "\n",
    "    sorted_arr = []\n",
    "    for i in range(n):\n",
    "        winner = tree[0]\n",
    "        sorted_arr.append(winner)\n",
    "\n",
    "        j = tree.index(winner)\n",
    "        tree[j] = None\n",
    "        while j > 0:\n",
    "            parent = (j - 1) // 2\n",
    "            sibling = j + 1 if j % 2 == 0 else j - 1\n",
    "            if tree[sibling] is not None:\n",
    "                loser = tree[sibling]\n",
    "            else:\n",
    "                loser = tree[parent]\n",
    "            tree[parent] = max(tree[parent], loser)\n",
    "            j = parent\n",
    "\n",
    "    return sorted_arr\n"
   ]
  },
  {
   "cell_type": "markdown",
   "metadata": {
    "id": "diOb-K7LnO5a"
   },
   "source": [
    "### Вывод"
   ]
  }
 ],
 "metadata": {
  "colab": {
   "provenance": [
    {
     "file_id": "1PB29AfCQqtCPpQJrN1jpaKF1cw_5iEo0",
     "timestamp": 1679127006477
    }
   ]
  },
  "kernelspec": {
   "display_name": "Python 3 (ipykernel)",
   "language": "python",
   "name": "python3"
  },
  "language_info": {
   "codemirror_mode": {
    "name": "ipython",
    "version": 3
   },
   "file_extension": ".py",
   "mimetype": "text/x-python",
   "name": "python",
   "nbconvert_exporter": "python",
   "pygments_lexer": "ipython3",
   "version": "3.10.2"
  }
 },
 "nbformat": 4,
 "nbformat_minor": 0
}
