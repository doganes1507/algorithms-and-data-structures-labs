{
 "cells": [
  {
   "attachments": {},
   "cell_type": "markdown",
   "id": "7bb928c8",
   "metadata": {},
   "source": [
    "# Лабораторная работа №4\n",
    "## Выполнил студент группы БСТ2101 Оганесян Давид\n",
    "\n",
    "Реализовать методы поиска в соответствии с заданием.\n",
    "Организовать генерацию начального набора случайных данных.\n",
    "Для всех вариантов добавить реализацию добавления, поиска и удаления элементов. Оценить время работы каждого алгоритма поиска и сравнить его со временем работы стандартной функции поиска, используемой в выбранном языке программирования.\n",
    "\n",
    "### Задание 1"
   ]
  },
  {
   "cell_type": "code",
   "execution_count": 65,
   "id": "828bb8cd",
   "metadata": {
    "pycharm": {
     "name": "#%%\n"
    },
    "ExecuteTime": {
     "end_time": "2023-05-20T19:33:51.406576600Z",
     "start_time": "2023-05-20T19:33:51.364222100Z"
    }
   },
   "outputs": [],
   "source": [
    "import random\n",
    "import time\n",
    "\n",
    "\n",
    "def generate_list(count, min_value=0, max_value=500):\n",
    "    return [random.randint(min_value, max_value) for _ in range(count)]\n",
    "\n",
    "\n",
    "num = generate_list(count=1000)"
   ]
  },
  {
   "cell_type": "markdown",
   "id": "66e81ee6",
   "metadata": {},
   "source": [
    "### Бинарный поиск"
   ]
  },
  {
   "cell_type": "code",
   "execution_count": 66,
   "id": "c3b5ee24",
   "metadata": {
    "pycharm": {
     "name": "#%%\n"
    },
    "ExecuteTime": {
     "end_time": "2023-05-20T19:33:51.453623Z",
     "start_time": "2023-05-20T19:33:51.365763400Z"
    }
   },
   "outputs": [
    {
     "name": "stdout",
     "output_type": "stream",
     "text": [
      "6.960000609979033e-05 ms\n",
      "49958\n"
     ]
    }
   ],
   "source": [
    "def binary_search(array, value):\n",
    "    left = 0\n",
    "    right = len(array) - 1\n",
    "\n",
    "    while left < right:\n",
    "        mid = (left + right) // 2\n",
    "        if array[mid] < value:\n",
    "            left = mid + 1\n",
    "        else:\n",
    "            right = mid\n",
    "\n",
    "    return left\n",
    "\n",
    "\n",
    "value = 5000\n",
    "data = sorted(generate_list(100000, 1, 10000))\n",
    "\n",
    "start_time = time.perf_counter()\n",
    "result = binary_search(data, value)\n",
    "print(f'{time.perf_counter() - start_time} ms')\n",
    "print(result)"
   ]
  },
  {
   "cell_type": "markdown",
   "id": "53cc4f97",
   "metadata": {},
   "source": [
    "### Бинарное дерево"
   ]
  },
  {
   "cell_type": "code",
   "execution_count": 67,
   "id": "5c10d755",
   "metadata": {
    "pycharm": {
     "name": "#%%\n"
    },
    "ExecuteTime": {
     "end_time": "2023-05-20T19:33:51.453623Z",
     "start_time": "2023-05-20T19:33:51.440958Z"
    }
   },
   "outputs": [
    {
     "name": "stdout",
     "output_type": "stream",
     "text": [
      "4.659994738176465e-05 ms\n",
      "177\n"
     ]
    }
   ],
   "source": [
    "class Node:\n",
    "\n",
    "    def __init__(self, data):\n",
    "\n",
    "        self.left = None\n",
    "        self.right = None\n",
    "        self.data = data\n",
    "\n",
    "    def insert(self, data):\n",
    "\n",
    "        if self.data:\n",
    "            if data < self.data:\n",
    "                if self.left is None:\n",
    "                    self.left = Node(data)\n",
    "                else:\n",
    "                    self.left.insert(data)\n",
    "            elif data > self.data:\n",
    "                if self.right is None:\n",
    "                    self.right = Node(data)\n",
    "                else:\n",
    "                    self.right.insert(data)\n",
    "        else:\n",
    "            self.data = data\n",
    "\n",
    "    def find_value(self, value):\n",
    "        if value < self.data:\n",
    "            if self.left is None:\n",
    "                return str(value) + \" Not Found\"\n",
    "            return self.left.find_value(value)\n",
    "        elif value > self.data:\n",
    "            if self.right is None:\n",
    "                return str(value) + \" Not Found\"\n",
    "            return self.right.find_value(value)\n",
    "        else:\n",
    "            return self.data\n",
    "\n",
    "    def print_tree(self):\n",
    "        if self.left:\n",
    "            self.left.print_tree()\n",
    "        print(self.data),\n",
    "        if self.right:\n",
    "            self.right.print_tree()\n",
    "\n",
    "\n",
    "tree = Node(num[0])\n",
    "for m in range(1, len(num)):\n",
    "    tree.insert(num[m])\n",
    "\n",
    "start_time = time.perf_counter()\n",
    "result = tree.find_value(num[221])\n",
    "print(f'{time.perf_counter() - start_time} ms')\n",
    "print(result)"
   ]
  },
  {
   "cell_type": "markdown",
   "id": "aaa6ac56",
   "metadata": {},
   "source": [
    "### Фибоначчиев поиск"
   ]
  },
  {
   "cell_type": "code",
   "execution_count": 68,
   "id": "5d089258",
   "metadata": {
    "pycharm": {
     "name": "#%%\n"
    },
    "ExecuteTime": {
     "end_time": "2023-05-20T19:33:51.531305300Z",
     "start_time": "2023-05-20T19:33:51.453623Z"
    }
   },
   "outputs": [
    {
     "name": "stdout",
     "output_type": "stream",
     "text": [
      "7.559999357908964e-05 ms\n",
      "49684\n"
     ]
    }
   ],
   "source": [
    "def fibonacci_search(array, val):\n",
    "    fib_m_minus_2 = 0\n",
    "    fib_m_minus_1 = 1\n",
    "    fib_m = fib_m_minus_1 + fib_m_minus_2\n",
    "    while fib_m < len(array):\n",
    "        fib_m_minus_2 = fib_m_minus_1\n",
    "        fib_m_minus_1 = fib_m\n",
    "        fib_m = fib_m_minus_1 + fib_m_minus_2\n",
    "    index = -1\n",
    "    while fib_m > 1:\n",
    "        i = min(index + fib_m_minus_2, (len(array) - 1))\n",
    "        if array[i] < val:\n",
    "            fib_m = fib_m_minus_1\n",
    "            fib_m_minus_1 = fib_m_minus_2\n",
    "            fib_m_minus_2 = fib_m - fib_m_minus_1\n",
    "            index = i\n",
    "        elif array[i] > val:\n",
    "            fib_m = fib_m_minus_2\n",
    "            fib_m_minus_1 = fib_m_minus_1 - fib_m_minus_2\n",
    "            fib_m_minus_2 = fib_m - fib_m_minus_1\n",
    "        else:\n",
    "            return i\n",
    "    if fib_m_minus_1 and index < (len(array) - 1) and array[index + 1] == val:\n",
    "        return index + 1\n",
    "    return -1\n",
    "\n",
    "\n",
    "value = 5000\n",
    "data = sorted(generate_list(100000, 1, 10000))\n",
    "\n",
    "start_time = time.perf_counter()\n",
    "result = fibonacci_search(data, value)\n",
    "print(f'{time.perf_counter() - start_time} ms')\n",
    "print(result)"
   ]
  },
  {
   "cell_type": "markdown",
   "id": "8cf29739",
   "metadata": {},
   "source": [
    "### Интерполяционный поиск"
   ]
  },
  {
   "cell_type": "code",
   "execution_count": 69,
   "id": "d66896dc",
   "metadata": {
    "pycharm": {
     "name": "#%%\n"
    },
    "ExecuteTime": {
     "end_time": "2023-05-20T19:33:51.609747100Z",
     "start_time": "2023-05-20T19:33:51.531305300Z"
    }
   },
   "outputs": [
    {
     "name": "stdout",
     "output_type": "stream",
     "text": [
      "6.049999501556158e-05 ms\n",
      "49910\n"
     ]
    }
   ],
   "source": [
    "def interpolation_search(arr, val):\n",
    "    low = 0\n",
    "    high = len(arr) - 1\n",
    "    while low <= high and arr[low] <= val <= arr[high]:\n",
    "        m = low + (high - low) * (val - arr[low]) // (arr[high] - arr[low])\n",
    "        if arr[m] == val:\n",
    "            return m\n",
    "        elif arr[m] < val:\n",
    "            low = m + 1\n",
    "        else:\n",
    "            high = m - 1\n",
    "    return -1\n",
    "\n",
    "\n",
    "value = 5000\n",
    "data = sorted(generate_list(100000, 1, 10000))\n",
    "\n",
    "start_time = time.perf_counter()\n",
    "result = interpolation_search(data, value)\n",
    "print(f'{time.perf_counter() - start_time} ms')\n",
    "print(result)"
   ]
  },
  {
   "cell_type": "markdown",
   "source": [
    "## Задание 2"
   ],
   "metadata": {
    "collapsed": false
   }
  },
  {
   "cell_type": "markdown",
   "id": "ca2f608a",
   "metadata": {},
   "source": [
    "### Простое рехеширование"
   ]
  },
  {
   "cell_type": "code",
   "execution_count": 70,
   "id": "a9f0a80b",
   "metadata": {
    "pycharm": {
     "name": "#%%\n"
    },
    "ExecuteTime": {
     "end_time": "2023-05-20T19:33:51.619864300Z",
     "start_time": "2023-05-20T19:33:51.617851300Z"
    }
   },
   "outputs": [
    {
     "name": "stdout",
     "output_type": "stream",
     "text": [
      "7473\n"
     ]
    }
   ],
   "source": [
    "class HashMap:\n",
    "    def __init__(self, size):\n",
    "        self.capacity = size\n",
    "        self.table = [None] * self.capacity\n",
    "\n",
    "    def insert(self, key, val):\n",
    "        index = self.hash1(key)\n",
    "        while self.table[index] is not None:\n",
    "            index = (index + 1) % self.capacity\n",
    "        self.table[index] = (key, val)\n",
    "\n",
    "    def search(self, key):\n",
    "        index = self.hash1(key)\n",
    "        while self.table[index] is not None:\n",
    "            if self.table[index][0] == key:\n",
    "                return self.table[index][1]\n",
    "            index = (index + 1) % self.capacity\n",
    "        return None\n",
    "\n",
    "    def hash1(self, x: int):\n",
    "        val = 0\n",
    "        iteration = 0\n",
    "        while x != 0:\n",
    "            mod = x % 10\n",
    "            x //= 10\n",
    "            val += mod * 3 ** iteration\n",
    "            iteration += 1\n",
    "        return val % self.capacity\n",
    "\n",
    "\n",
    "m = HashMap(4)\n",
    "m.insert(8273982, 7473)\n",
    "m.insert(9329003, 89493)\n",
    "m.insert(3293782, 37874)\n",
    "m.insert(2273972, 922)\n",
    "print(m.search(8273982))"
   ]
  },
  {
   "cell_type": "markdown",
   "id": "55793d00",
   "metadata": {},
   "source": [
    "### Рехеширование с помощью псевдослучайных чисел"
   ]
  },
  {
   "cell_type": "code",
   "execution_count": 71,
   "id": "c20efac0",
   "metadata": {
    "pycharm": {
     "name": "#%%\n"
    },
    "ExecuteTime": {
     "end_time": "2023-05-20T19:33:51.626642200Z",
     "start_time": "2023-05-20T19:33:51.619864300Z"
    }
   },
   "outputs": [
    {
     "name": "stdout",
     "output_type": "stream",
     "text": [
      "7473\n"
     ]
    }
   ],
   "source": [
    "from random import randint\n",
    "\n",
    "\n",
    "class HashMap:\n",
    "    def __init__(self, size):\n",
    "        self.capacity = size\n",
    "        self.table = [None] * self.capacity\n",
    "\n",
    "    def insert(self, key, value):\n",
    "        from random import randint\n",
    "        index = self._hash(key)\n",
    "        while self.table[index] is not None:\n",
    "            index = (index + randint(0, self.capacity)) % self.capacity\n",
    "        self.table[index] = (key, value)\n",
    "\n",
    "    def search(self, key):\n",
    "        index = self._hash(key)\n",
    "        while self.table[index] is not None:\n",
    "            if self.table[index][0] == key:\n",
    "                return self.table[index][1]\n",
    "            index = (index + randint(0, self.capacity)) % self.capacity\n",
    "        return None\n",
    "\n",
    "    def _hash(self, x: int) -> int:\n",
    "        value = 0\n",
    "        iteration = 0\n",
    "        while x != 0:\n",
    "            mod = x % 10\n",
    "            x //= 10\n",
    "            value += mod * 3 ** iteration\n",
    "            iteration += 1\n",
    "        return value % self.capacity\n",
    "\n",
    "\n",
    "m = HashMap(4)\n",
    "m.insert(8273982, 7473)\n",
    "m.insert(9329003, 89493)\n",
    "m.insert(3293782, 37874)\n",
    "m.insert(2273972, 922)\n",
    "print(m.search(8273982))"
   ]
  },
  {
   "cell_type": "markdown",
   "id": "9d87001e",
   "metadata": {},
   "source": [
    "### Метод цепочек"
   ]
  },
  {
   "cell_type": "code",
   "execution_count": 72,
   "id": "9daeda91",
   "metadata": {
    "pycharm": {
     "name": "#%%\n"
    },
    "ExecuteTime": {
     "end_time": "2023-05-20T19:33:51.683122100Z",
     "start_time": "2023-05-20T19:33:51.626642200Z"
    }
   },
   "outputs": [
    {
     "name": "stdout",
     "output_type": "stream",
     "text": [
      "7473\n"
     ]
    }
   ],
   "source": [
    "class Pair:\n",
    "    def __init__(self, key: int = 0, value: int = 0):\n",
    "        self.key = key\n",
    "        self.value = value\n",
    "\n",
    "\n",
    "class HashMap:\n",
    "    def __init__(self, size: int) -> None:\n",
    "        self.capacity = size\n",
    "        self.table = [None] * self.capacity\n",
    "\n",
    "    def insert(self, key: int, value: int) -> None:\n",
    "        index = self._hash(key)\n",
    "        if self.table[index] is None:\n",
    "            self.table[index] = [Pair(key, value)]\n",
    "        else:\n",
    "            self.table[index].append(Pair(key, value))\n",
    "\n",
    "    def search(self, key: int) -> int:\n",
    "        index = self._hash(key)\n",
    "        for i in range(len(self.table[index])):\n",
    "            if self.table[index][i].key == key:\n",
    "                return self.table[index][i].value\n",
    "        return None\n",
    "\n",
    "    def _hash(self, x: int) -> int:\n",
    "        val = 0\n",
    "        iteration = 0\n",
    "        while x != 0:\n",
    "            mod = x % 10\n",
    "            x //= 10\n",
    "            val += mod * 3 ** iteration\n",
    "            iteration += 1\n",
    "        return val % self.capacity\n",
    "\n",
    "\n",
    "m = HashMap(4)\n",
    "m.insert(8273982, 7473)\n",
    "m.insert(9329003, 89493)\n",
    "m.insert(3293782, 37874)\n",
    "m.insert(2273972, 922)\n",
    "print(m.search(8273982))"
   ]
  },
  {
   "cell_type": "markdown",
   "id": "5399a803",
   "metadata": {},
   "source": [
    "## Задание 3"
   ]
  },
  {
   "cell_type": "markdown",
   "id": "be4b6b9c",
   "metadata": {},
   "source": [
    "Расставить на стандартной 64-клеточной шахматной доске 8 ферзей так, чтобы ни один из них не находился под боем другого». Подразумевается, что ферзь бьёт все клетки, расположенные по вертикалям, горизонталям и обеим диагоналям.\n",
    "Написать программу, которая находит хотя бы один способ решения задач.\n"
   ]
  },
  {
   "cell_type": "code",
   "execution_count": 73,
   "id": "d6823721",
   "metadata": {
    "pycharm": {
     "name": "#%%\n"
    },
    "ExecuteTime": {
     "end_time": "2023-05-20T19:33:51.698419600Z",
     "start_time": "2023-05-20T19:33:51.636833100Z"
    }
   },
   "outputs": [
    {
     "data": {
      "text/plain": "[[1, 0, 0, 0, 0, 0, 0, 0],\n [0, 0, 1, 0, 0, 0, 0, 0],\n [0, 0, 0, 0, 1, 0, 0, 0],\n [0, 0, 0, 0, 0, 0, 1, 0],\n [0, 1, 0, 0, 0, 0, 0, 0],\n [0, 0, 0, 1, 0, 0, 0, 0],\n [0, 0, 0, 0, 0, 1, 0, 0],\n [0, 0, 0, 0, 0, 0, 0, 1]]"
     },
     "execution_count": 73,
     "metadata": {},
     "output_type": "execute_result"
    }
   ],
   "source": [
    "chess = [[0 for _ in range(8)] for _ in range(8)]\n",
    "\n",
    "\n",
    "def can_stand(chess, row, column):\n",
    "    i_p = 0\n",
    "    i_m = 0\n",
    "    for r in range(8):\n",
    "        if chess[r][column] == 1:\n",
    "            return False\n",
    "    for c in range(column):\n",
    "        if chess[row][c] == 1:\n",
    "            return False\n",
    "    for r in range(row, 8):\n",
    "        if column + i_p >= 8: break\n",
    "        if chess[r][column + i_p] == 1 or chess[r][column - i_p] == 1:\n",
    "            return False\n",
    "        i_p += 1\n",
    "    for r in range(row, -1, -1):\n",
    "        if column - i_m >= 8: break\n",
    "        if chess[r][column + i_m] == 1 or chess[r][column - i_m] == 1:\n",
    "            return False\n",
    "        i_m -= 1\n",
    "    return True\n",
    "\n",
    "\n",
    "def queen(chess, row=0, column=0):\n",
    "    if row > 7:\n",
    "        return True\n",
    "    for col in range(column, 8):\n",
    "        if can_stand(chess, row, col):\n",
    "            chess[row][col] = 1\n",
    "            if col + 1 >= 7: col = 0\n",
    "            queen(chess, row=row + 1, column=col)\n",
    "            break\n",
    "\n",
    "\n",
    "queen(chess)\n",
    "chess"
   ]
  }
 ],
 "metadata": {
  "kernelspec": {
   "display_name": "Python 3",
   "language": "python",
   "name": "python3"
  },
  "language_info": {
   "codemirror_mode": {
    "name": "ipython",
    "version": 3
   },
   "file_extension": ".py",
   "mimetype": "text/x-python",
   "name": "python",
   "nbconvert_exporter": "python",
   "pygments_lexer": "ipython3",
   "version": "3.10.9"
  }
 },
 "nbformat": 4,
 "nbformat_minor": 5
}
